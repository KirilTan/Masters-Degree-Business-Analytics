{
 "cells": [
  {
   "cell_type": "markdown",
   "metadata": {},
   "source": [
    "# 📘 Тема 1: Четене и обработка на данни\n",
    "\n",
    "---\n",
    "\n",
    "## 1. Въвеждане на данни ръчно с NumPy\n",
    "В началото зареждаме библиотеката **NumPy** с краткото име `np`. \n"
   ],
   "id": "5f9a1b2101dfe47c"
  },
  {
   "cell_type": "code",
   "metadata": {},
   "source": [
    "import numpy as np\n",
    "\n",
    "u = [0, 1.2, 2.4, 3.2, 4, 5, 6, 7, 8, 9]\n",
    "v = [1.5, 2.8, 2, 5, 7, 8, 8.5, 9.2, 10.4, 12.5]\n",
    "\n",
    "# Отпечатване на стойностите\n",
    "print(u, v)\n",
    "\n",
    "# Отпечатване на стойностите с цикъл\n",
    "for i in range(0, 10):\n",
    "    print(u[i], ' ', v[i])"
   ],
   "id": "7402304388d174fd",
   "outputs": [],
   "execution_count": null
  },
  {
   "cell_type": "markdown",
   "metadata": {},
   "source": [
    "- `range(0, 10)` – създава диапазон от стойности от 0 до 9.\n",
    "- `print(u[i], ' ', v[i])` – отпечатва стойностите на `u` и `v` по индекси.\n",
    "---"
   ],
   "id": "7c5c0cc07e98579c"
  },
  {
   "cell_type": "markdown",
   "metadata": {},
   "source": [
    "## 2. Използване на `np.array()`\n",
    "Методът `np.array()` преобразува обект в `numpy array`.\n"
   ],
   "id": "5f35ddf526090736"
  },
  {
   "cell_type": "code",
   "metadata": {},
   "source": [
    "x = np.array([0, 1.2, 2.4, 3.2, 4, 5, 6, 7, 8, 9])\n",
    "y = np.array([1.5, 2.8, 2, 5, 7, 8, 8.5, 9.2, 10.4, 12.5])\n",
    "\n",
    "print(x)\n",
    "print(y)"
   ],
   "id": "eda99a63fbabd913",
   "outputs": [],
   "execution_count": null
  },
  {
   "cell_type": "markdown",
   "metadata": {},
   "source": [
    "- `np.array(object, dtype=None, copy=True, order='K', subok=False, ndmin=0)`\n",
    "    - `object` – списък или друга структура от данни.\n",
    "    - `dtype` – тип на елементите (`int`, `float`, `bool` и т.н.).\n",
    "    - `copy` – ако е `True`, се копират данните, ако е `False`, се използват оригиналните данни.\n",
    "---"
   ],
   "id": "f89b304287ebd0c1"
  },
  {
   "cell_type": "markdown",
   "metadata": {},
   "source": [
    "## 3. Четене на CSV файл с `pandas.read_csv()`\n"
   ],
   "id": "4ab7ab7996782c1c"
  },
  {
   "cell_type": "code",
   "metadata": {},
   "source": [
    "import pandas as pd\n",
    "\n",
    "dataset = pd.read_csv(\"lab/insurance.csv\")\n",
    "data = dataset.values\n",
    "x = data[:, 0]\n",
    "y = data[:, 1]\n",
    "\n",
    "print(x[:10])\n",
    "print(y[:10])"
   ],
   "id": "c4d28619fd03e9cf",
   "outputs": [],
   "execution_count": null
  },
  {
   "cell_type": "markdown",
   "metadata": {},
   "source": [
    "- `pd.read_csv(filepath, delimiter=',', header='infer')`\n",
    "    - `filepath` – пътят до файла.\n",
    "    - `delimiter` – разделител между колоните.\n",
    "---"
   ],
   "id": "f5ca0177aad4d5a4"
  },
  {
   "cell_type": "markdown",
   "metadata": {},
   "source": [
    "## 4. Четене на текстови файлове с `numpy.loadtxt()`\n"
   ],
   "id": "3b929791fa56643a"
  },
  {
   "cell_type": "code",
   "metadata": {},
   "source": [
    "data = np.loadtxt('lab/ex2data1.txt', delimiter=',')\n",
    "x = data[:, 0:2]\n",
    "y = data[:, 2]\n",
    "\n",
    "print(x[:5])\n",
    "print(y[:5])"
   ],
   "id": "555250bb6e601f92",
   "outputs": [],
   "execution_count": null
  },
  {
   "cell_type": "markdown",
   "metadata": {},
   "source": [
    "### Обяснение:\n",
    "- `np.loadtxt(fname, delimiter=None, skiprows=0, usecols=None, dtype=float)`\n",
    "---"
   ],
   "id": "a51f3f1aa9e09752"
  }
 ],
 "metadata": {
  "kernelspec": {
   "display_name": "Python 3",
   "language": "python",
   "name": "python3"
  },
  "language_info": {
   "name": "python"
  }
 },
 "nbformat": 4,
 "nbformat_minor": 5
}
